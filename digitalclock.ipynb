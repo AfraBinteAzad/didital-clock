{
 "cells": [
  {
   "cell_type": "code",
   "execution_count": 3,
   "id": "4c3ecc0f",
   "metadata": {},
   "outputs": [],
   "source": [
    "from tkinter import *\n",
    "from time import *\n",
    "def update():\n",
    "    time_string =strftime(\"%I : %M : %S %p\")\n",
    "    time_label.config(text=time_string)\n",
    "    day_string =strftime(\"%A\")\n",
    "    day_label.config(text=day_string)\n",
    "    date_string =strftime(\"%B %d, %Y\")\n",
    "    date_label.config(text=date_string)\n",
    "    window.after(1000,update)\n",
    "window =Tk()\n",
    "time_label = Label(window,font=(\"Arial\",50),fg=\"#00FF00\",bg=\"black\")\n",
    "time_label.pack()\n",
    "day_label = Label(window,font=(\"Arial\",50),fg=\"#00FF00\",bg=\"black\")\n",
    "day_label.pack()\n",
    "date_label = Label(window,font=(\"Arial\",50),fg=\"#00FF00\",bg=\"black\")\n",
    "date_label.pack()\n",
    "update()\n",
    "window.mainloop()"
   ]
  },
  {
   "cell_type": "code",
   "execution_count": null,
   "id": "89958105",
   "metadata": {},
   "outputs": [],
   "source": []
  }
 ],
 "metadata": {
  "kernelspec": {
   "display_name": "Python 3 (ipykernel)",
   "language": "python",
   "name": "python3"
  },
  "language_info": {
   "codemirror_mode": {
    "name": "ipython",
    "version": 3
   },
   "file_extension": ".py",
   "mimetype": "text/x-python",
   "name": "python",
   "nbconvert_exporter": "python",
   "pygments_lexer": "ipython3",
   "version": "3.10.9"
  }
 },
 "nbformat": 4,
 "nbformat_minor": 5
}
